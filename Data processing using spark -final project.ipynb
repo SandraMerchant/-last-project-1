{
 "cells": [
  {
   "cell_type": "code",
   "execution_count": 73,
   "id": "9ef80d32",
   "metadata": {},
   "outputs": [
    {
     "data": {
      "text/html": [
       "\n",
       "        <div>\n",
       "            <p><b>SparkContext</b></p>\n",
       "\n",
       "            <p><a href=\"http://10.0.2.15:4042\">Spark UI</a></p>\n",
       "\n",
       "            <dl>\n",
       "              <dt>Version</dt>\n",
       "                <dd><code>v3.2.4</code></dd>\n",
       "              <dt>Master</dt>\n",
       "                <dd><code>local[*]</code></dd>\n",
       "              <dt>AppName</dt>\n",
       "                <dd><code>PySparkShell</code></dd>\n",
       "            </dl>\n",
       "        </div>\n",
       "        "
      ],
      "text/plain": [
       "<SparkContext master=local[*] appName=PySparkShell>"
      ]
     },
     "execution_count": 73,
     "metadata": {},
     "output_type": "execute_result"
    }
   ],
   "source": [
    "sc"
   ]
  },
  {
   "cell_type": "code",
   "execution_count": 74,
   "id": "f6381ce9",
   "metadata": {},
   "outputs": [
    {
     "data": {
      "text/plain": [
       "'local[*]'"
      ]
     },
     "execution_count": 74,
     "metadata": {},
     "output_type": "execute_result"
    }
   ],
   "source": [
    "# sc master - running locally\n",
    "sc.master"
   ]
  },
  {
   "cell_type": "code",
   "execution_count": 75,
   "id": "f3f50720",
   "metadata": {},
   "outputs": [],
   "source": [
    "# import SparkSession library \n",
    "from pyspark.sql import SparkSession\n",
    "\n",
    "spark = SparkSession.builder.appName('data_processing').getOrCreate()"
   ]
  },
  {
   "cell_type": "code",
   "execution_count": 76,
   "id": "4a6c6d37",
   "metadata": {},
   "outputs": [],
   "source": [
    "import warnings\n",
    "warnings.filterwarnings(\"ignore\")"
   ]
  },
  {
   "cell_type": "code",
   "execution_count": 77,
   "id": "d4cce1bf",
   "metadata": {},
   "outputs": [
    {
     "data": {
      "text/plain": [
       "<bound method DataFrame.show of DataFrame[_c0: string, _c1: string, _c2: string, _c3: string, _c4: string, _c5: string]>"
      ]
     },
     "execution_count": 77,
     "metadata": {},
     "output_type": "execute_result"
    }
   ],
   "source": [
    "# spark is from the previous example.\n",
    "sc = spark.sparkContext\n",
    "\n",
    "# A JSON dataset is pointed to by path.\n",
    "# Move the 'people.json' file to hadoop /user1\n",
    "path = \"/user5/ProjectTweets.csv\"\n",
    "#path = \"file:///home/hduser/Downloads/second semester-2project\"\n",
    "body = spark.read.csv(path)\n",
    "body.show"
   ]
  },
  {
   "cell_type": "markdown",
   "id": "a42a68f9",
   "metadata": {},
   "source": [
    "# Data Preprocessing "
   ]
  },
  {
   "cell_type": "code",
   "execution_count": 78,
   "id": "82881618",
   "metadata": {},
   "outputs": [
    {
     "name": "stderr",
     "output_type": "stream",
     "text": [
      "                                                                                \r"
     ]
    },
    {
     "data": {
      "text/plain": [
       "1600000"
      ]
     },
     "execution_count": 78,
     "metadata": {},
     "output_type": "execute_result"
    }
   ],
   "source": [
    "#Count the number of records\n",
    "body.count()"
   ]
  },
  {
   "cell_type": "code",
   "execution_count": 79,
   "id": "3e18eee2",
   "metadata": {},
   "outputs": [
    {
     "data": {
      "text/plain": [
       "6"
      ]
     },
     "execution_count": 79,
     "metadata": {},
     "output_type": "execute_result"
    }
   ],
   "source": [
    "# Number of columns\n",
    "len(body.columns)"
   ]
  },
  {
   "cell_type": "code",
   "execution_count": 80,
   "id": "322e9485",
   "metadata": {},
   "outputs": [
    {
     "name": "stdout",
     "output_type": "stream",
     "text": [
      "root\n",
      " |-- _c0: string (nullable = true)\n",
      " |-- _c1: string (nullable = true)\n",
      " |-- _c2: string (nullable = true)\n",
      " |-- _c3: string (nullable = true)\n",
      " |-- _c4: string (nullable = true)\n",
      " |-- _c5: string (nullable = true)\n",
      "\n"
     ]
    }
   ],
   "source": [
    "# Display the structure of schema\n",
    "body.printSchema()"
   ]
  },
  {
   "cell_type": "code",
   "execution_count": 81,
   "id": "90452186",
   "metadata": {},
   "outputs": [
    {
     "name": "stdout",
     "output_type": "stream",
     "text": [
      "+---+----------+--------------------+--------+---------------+--------------------+\n",
      "|_c0|       _c1|                 _c2|     _c3|            _c4|                 _c5|\n",
      "+---+----------+--------------------+--------+---------------+--------------------+\n",
      "|  0|1467810369|Mon Apr 06 22:19:...|NO_QUERY|_TheSpecialOne_|@switchfoot http:...|\n",
      "|  1|1467810672|Mon Apr 06 22:19:...|NO_QUERY|  scotthamilton|is upset that he ...|\n",
      "|  2|1467810917|Mon Apr 06 22:19:...|NO_QUERY|       mattycus|@Kenichan I dived...|\n",
      "|  3|1467811184|Mon Apr 06 22:19:...|NO_QUERY|        ElleCTF|my whole body fee...|\n",
      "|  4|1467811193|Mon Apr 06 22:19:...|NO_QUERY|         Karoli|@nationwideclass ...|\n",
      "+---+----------+--------------------+--------+---------------+--------------------+\n",
      "only showing top 5 rows\n",
      "\n"
     ]
    }
   ],
   "source": [
    "# Show the first 5 records\n",
    "body.show(5)"
   ]
  },
  {
   "cell_type": "code",
   "execution_count": 82,
   "id": "4ea2398c",
   "metadata": {},
   "outputs": [
    {
     "data": {
      "text/plain": [
       "['_c0', '_c1', '_c2', '_c3', '_c4', '_c5']"
      ]
     },
     "execution_count": 82,
     "metadata": {},
     "output_type": "execute_result"
    }
   ],
   "source": [
    "#show columns\n",
    "body.columns"
   ]
  },
  {
   "cell_type": "code",
   "execution_count": 86,
   "id": "eceeb24e",
   "metadata": {},
   "outputs": [
    {
     "name": "stderr",
     "output_type": "stream",
     "text": [
      "[Stage 115:============================>                            (1 + 1) / 2]\r"
     ]
    },
    {
     "name": "stdout",
     "output_type": "stream",
     "text": [
      "+-------+------------------+--------------------+--------------------+--------+-------------------+--------------------+\n",
      "|summary|               _c0|                 _c1|                 _c2|     _c3|                _c4|                 _c5|\n",
      "+-------+------------------+--------------------+--------------------+--------+-------------------+--------------------+\n",
      "|  count|           1600000|             1600000|             1600000| 1600000|            1600000|             1600000|\n",
      "|   mean|          799999.5|1.9988175522956276E9|                null|    null|4.325887521835714E9|                null|\n",
      "| stddev|461880.35968924535| 1.935760736227021E8|                null|    null|5.16273321845489E10|                null|\n",
      "|    min|                 0|          1467810369|Fri Apr 17 20:30:...|NO_QUERY|       000catnap000|                 ...|\n",
      "|    25%|          399999.0|       1.956901607E9|                null|    null|            32508.0|                null|\n",
      "|    50%|          799999.0|       2.002093413E9|                null|    null|           130587.0|                null|\n",
      "|    75%|         1200038.0|       2.177048867E9|                null|    null|          1100101.0|                null|\n",
      "|    max|            999999|          2329205794|Wed May 27 07:27:...|NO_QUERY|         zzzzeus111|ï¿½ï¿½ï¿½ï¿½ï¿½ß§...|\n",
      "+-------+------------------+--------------------+--------------------+--------+-------------------+--------------------+\n",
      "\n"
     ]
    },
    {
     "name": "stderr",
     "output_type": "stream",
     "text": [
      "                                                                                \r"
     ]
    }
   ],
   "source": [
    "# Display the summary of the data\n",
    "body.summary().show()"
   ]
  },
  {
   "cell_type": "code",
   "execution_count": 87,
   "id": "19e697e5",
   "metadata": {},
   "outputs": [
    {
     "name": "stdout",
     "output_type": "stream",
     "text": [
      "+-------+----------+--------------------+--------+---------------+--------------------+\n",
      "|user_id|    number|                time|   query|       username|               tweet|\n",
      "+-------+----------+--------------------+--------+---------------+--------------------+\n",
      "|      0|1467810369|Mon Apr 06 22:19:...|NO_QUERY|_TheSpecialOne_|@switchfoot http:...|\n",
      "|      1|1467810672|Mon Apr 06 22:19:...|NO_QUERY|  scotthamilton|is upset that he ...|\n",
      "|      2|1467810917|Mon Apr 06 22:19:...|NO_QUERY|       mattycus|@Kenichan I dived...|\n",
      "|      3|1467811184|Mon Apr 06 22:19:...|NO_QUERY|        ElleCTF|my whole body fee...|\n",
      "|      4|1467811193|Mon Apr 06 22:19:...|NO_QUERY|         Karoli|@nationwideclass ...|\n",
      "|      5|1467811372|Mon Apr 06 22:20:...|NO_QUERY|       joy_wolf|@Kwesidei not the...|\n",
      "|      6|1467811592|Mon Apr 06 22:20:...|NO_QUERY|        mybirch|         Need a hug |\n",
      "|      7|1467811594|Mon Apr 06 22:20:...|NO_QUERY|           coZZ|@LOLTrish hey  lo...|\n",
      "|      8|1467811795|Mon Apr 06 22:20:...|NO_QUERY|2Hood4Hollywood|@Tatiana_K nope t...|\n",
      "|      9|1467812025|Mon Apr 06 22:20:...|NO_QUERY|        mimismo|@twittera que me ...|\n",
      "|     10|1467812416|Mon Apr 06 22:20:...|NO_QUERY| erinx3leannexo|spring break in p...|\n",
      "|     11|1467812579|Mon Apr 06 22:20:...|NO_QUERY|   pardonlauren|I just re-pierced...|\n",
      "|     12|1467812723|Mon Apr 06 22:20:...|NO_QUERY|           TLeC|@caregiving I cou...|\n",
      "|     13|1467812771|Mon Apr 06 22:20:...|NO_QUERY|robrobbierobert|@octolinz16 It it...|\n",
      "|     14|1467812784|Mon Apr 06 22:20:...|NO_QUERY|    bayofwolves|@smarrison i woul...|\n",
      "|     15|1467812799|Mon Apr 06 22:20:...|NO_QUERY|     HairByJess|@iamjazzyfizzle I...|\n",
      "|     16|1467812964|Mon Apr 06 22:20:...|NO_QUERY| lovesongwriter|Hollis' death sce...|\n",
      "|     17|1467813137|Mon Apr 06 22:20:...|NO_QUERY|       armotley|about to file taxes |\n",
      "|     18|1467813579|Mon Apr 06 22:20:...|NO_QUERY|     starkissed|@LettyA ahh ive a...|\n",
      "|     19|1467813782|Mon Apr 06 22:20:...|NO_QUERY|      gi_gi_bee|@FakerPattyPattz ...|\n",
      "+-------+----------+--------------------+--------+---------------+--------------------+\n",
      "only showing top 20 rows\n",
      "\n"
     ]
    }
   ],
   "source": [
    "renamed_body = body \\\n",
    "    .withColumnRenamed('_c0', 'user_id') \\\n",
    "    .withColumnRenamed('_c1', 'number') \\\n",
    "    .withColumnRenamed('_c2', 'time') \\\n",
    "    .withColumnRenamed('_c3', 'query') \\\n",
    "    .withColumnRenamed('_c4', 'username') \\\n",
    "    .withColumnRenamed('_c5', 'tweet')\n",
    "\n",
    "renamed_body.show()"
   ]
  },
  {
   "cell_type": "code",
   "execution_count": 88,
   "id": "2277d11c",
   "metadata": {},
   "outputs": [
    {
     "name": "stdout",
     "output_type": "stream",
     "text": [
      "+-------+--------------------+--------+---------------+--------------------+\n",
      "|user_id|                time|   query|       username|               tweet|\n",
      "+-------+--------------------+--------+---------------+--------------------+\n",
      "|      0|Mon Apr 06 22:19:...|NO_QUERY|_TheSpecialOne_|@switchfoot http:...|\n",
      "|      1|Mon Apr 06 22:19:...|NO_QUERY|  scotthamilton|is upset that he ...|\n",
      "|      2|Mon Apr 06 22:19:...|NO_QUERY|       mattycus|@Kenichan I dived...|\n",
      "|      3|Mon Apr 06 22:19:...|NO_QUERY|        ElleCTF|my whole body fee...|\n",
      "|      4|Mon Apr 06 22:19:...|NO_QUERY|         Karoli|@nationwideclass ...|\n",
      "|      5|Mon Apr 06 22:20:...|NO_QUERY|       joy_wolf|@Kwesidei not the...|\n",
      "|      6|Mon Apr 06 22:20:...|NO_QUERY|        mybirch|         Need a hug |\n",
      "|      7|Mon Apr 06 22:20:...|NO_QUERY|           coZZ|@LOLTrish hey  lo...|\n",
      "|      8|Mon Apr 06 22:20:...|NO_QUERY|2Hood4Hollywood|@Tatiana_K nope t...|\n",
      "|      9|Mon Apr 06 22:20:...|NO_QUERY|        mimismo|@twittera que me ...|\n",
      "|     10|Mon Apr 06 22:20:...|NO_QUERY| erinx3leannexo|spring break in p...|\n",
      "|     11|Mon Apr 06 22:20:...|NO_QUERY|   pardonlauren|I just re-pierced...|\n",
      "|     12|Mon Apr 06 22:20:...|NO_QUERY|           TLeC|@caregiving I cou...|\n",
      "|     13|Mon Apr 06 22:20:...|NO_QUERY|robrobbierobert|@octolinz16 It it...|\n",
      "|     14|Mon Apr 06 22:20:...|NO_QUERY|    bayofwolves|@smarrison i woul...|\n",
      "|     15|Mon Apr 06 22:20:...|NO_QUERY|     HairByJess|@iamjazzyfizzle I...|\n",
      "|     16|Mon Apr 06 22:20:...|NO_QUERY| lovesongwriter|Hollis' death sce...|\n",
      "|     17|Mon Apr 06 22:20:...|NO_QUERY|       armotley|about to file taxes |\n",
      "|     18|Mon Apr 06 22:20:...|NO_QUERY|     starkissed|@LettyA ahh ive a...|\n",
      "|     19|Mon Apr 06 22:20:...|NO_QUERY|      gi_gi_bee|@FakerPattyPattz ...|\n",
      "+-------+--------------------+--------+---------------+--------------------+\n",
      "only showing top 20 rows\n",
      "\n"
     ]
    }
   ],
   "source": [
    "#deleting column\n",
    "renamed_body.drop('number').show()"
   ]
  },
  {
   "cell_type": "markdown",
   "id": "1c8350d5",
   "metadata": {},
   "source": [
    "## Subset"
   ]
  },
  {
   "cell_type": "code",
   "execution_count": 89,
   "id": "8cb4e7a4",
   "metadata": {},
   "outputs": [
    {
     "name": "stdout",
     "output_type": "stream",
     "text": [
      "+--------------------+--------------------+\n",
      "|                time|               tweet|\n",
      "+--------------------+--------------------+\n",
      "|Mon Apr 06 22:19:...|@switchfoot http:...|\n",
      "|Mon Apr 06 22:19:...|is upset that he ...|\n",
      "|Mon Apr 06 22:19:...|@Kenichan I dived...|\n",
      "|Mon Apr 06 22:19:...|my whole body fee...|\n",
      "|Mon Apr 06 22:19:...|@nationwideclass ...|\n",
      "|Mon Apr 06 22:20:...|@Kwesidei not the...|\n",
      "|Mon Apr 06 22:20:...|         Need a hug |\n",
      "|Mon Apr 06 22:20:...|@LOLTrish hey  lo...|\n",
      "|Mon Apr 06 22:20:...|@Tatiana_K nope t...|\n",
      "|Mon Apr 06 22:20:...|@twittera que me ...|\n",
      "|Mon Apr 06 22:20:...|spring break in p...|\n",
      "|Mon Apr 06 22:20:...|I just re-pierced...|\n",
      "|Mon Apr 06 22:20:...|@caregiving I cou...|\n",
      "|Mon Apr 06 22:20:...|@octolinz16 It it...|\n",
      "|Mon Apr 06 22:20:...|@smarrison i woul...|\n",
      "|Mon Apr 06 22:20:...|@iamjazzyfizzle I...|\n",
      "|Mon Apr 06 22:20:...|Hollis' death sce...|\n",
      "|Mon Apr 06 22:20:...|about to file taxes |\n",
      "|Mon Apr 06 22:20:...|@LettyA ahh ive a...|\n",
      "|Mon Apr 06 22:20:...|@FakerPattyPattz ...|\n",
      "+--------------------+--------------------+\n",
      "only showing top 20 rows\n",
      "\n"
     ]
    }
   ],
   "source": [
    "# Display the subset of data\n",
    "renamed_body.select(['time','tweet']).show()"
   ]
  },
  {
   "cell_type": "code",
   "execution_count": 90,
   "id": "aaa76e40",
   "metadata": {},
   "outputs": [
    {
     "name": "stdout",
     "output_type": "stream",
     "text": [
      "+--------------------+--------------------+\n",
      "|                time|               tweet|\n",
      "+--------------------+--------------------+\n",
      "|Fri May 01 20:08:...|jayseto@KevinSpac...|\n",
      "|Fri May 01 20:08:...|Bad hair day for ...|\n",
      "|Fri May 01 20:08:...|It's N-O-N  P-H-I...|\n",
      "|Fri May 01 20:08:...|    Twitter hate me |\n",
      "|Fri May 01 20:08:...|did i mention, I ...|\n",
      "|Fri May 01 20:08:...|swine flu attacks...|\n",
      "|Fri May 01 20:08:...|Please God, make ...|\n",
      "|Fri May 01 20:08:...|Wants to walk to ...|\n",
      "|Fri May 01 20:08:...|@minnie_boo oh no...|\n",
      "|Fri May 01 20:08:...|I didn't win the ...|\n",
      "|Fri May 01 20:08:...|Tuesday and I are...|\n",
      "|Fri May 01 20:08:...|@MsAmeliaBadila n...|\n",
      "|Fri May 01 20:08:...|Michelle is sad t...|\n",
      "|Fri May 01 20:08:...|@justashley  my h...|\n",
      "|Fri May 01 20:09:...|study for finals ...|\n",
      "|Fri May 01 20:09:...|@amyprutch hmmm.....|\n",
      "|Fri May 01 20:09:...|misses having all...|\n",
      "|Fri May 01 20:09:...|@IncredibleLAGO t...|\n",
      "|Fri May 01 20:09:...|right about now i...|\n",
      "|Fri May 01 20:09:...|Argh! There's thi...|\n",
      "+--------------------+--------------------+\n",
      "only showing top 20 rows\n",
      "\n"
     ]
    }
   ],
   "source": [
    "from pyspark.sql.functions import col\n",
    "\n",
    "# Filter the DataFrame for entries in May and select only 'time' and 'tweet' columns\n",
    "renamed_body.filter(col('time').substr(5, 3) == 'May').select('time', 'tweet').show()\n"
   ]
  },
  {
   "cell_type": "code",
   "execution_count": 91,
   "id": "afb3a438",
   "metadata": {},
   "outputs": [
    {
     "name": "stdout",
     "output_type": "stream",
     "text": [
      "+--------------------+---------------+--------------------+\n",
      "|                time|       username|               tweet|\n",
      "+--------------------+---------------+--------------------+\n",
      "|Mon Apr 06 22:19:...|_TheSpecialOne_|@switchfoot http:...|\n",
      "|Mon Apr 06 22:19:...|  scotthamilton|is upset that he ...|\n",
      "|Mon Apr 06 22:19:...|       mattycus|@Kenichan I dived...|\n",
      "|Mon Apr 06 22:19:...|        ElleCTF|my whole body fee...|\n",
      "|Mon Apr 06 22:19:...|         Karoli|@nationwideclass ...|\n",
      "|Mon Apr 06 22:20:...|       joy_wolf|@Kwesidei not the...|\n",
      "|Mon Apr 06 22:20:...|        mybirch|         Need a hug |\n",
      "|Mon Apr 06 22:20:...|           coZZ|@LOLTrish hey  lo...|\n",
      "|Mon Apr 06 22:20:...|2Hood4Hollywood|@Tatiana_K nope t...|\n",
      "|Mon Apr 06 22:20:...|        mimismo|@twittera que me ...|\n",
      "|Mon Apr 06 22:20:...| erinx3leannexo|spring break in p...|\n",
      "|Mon Apr 06 22:20:...|   pardonlauren|I just re-pierced...|\n",
      "|Mon Apr 06 22:20:...|           TLeC|@caregiving I cou...|\n",
      "|Mon Apr 06 22:20:...|robrobbierobert|@octolinz16 It it...|\n",
      "|Mon Apr 06 22:20:...|    bayofwolves|@smarrison i woul...|\n",
      "|Mon Apr 06 22:20:...|     HairByJess|@iamjazzyfizzle I...|\n",
      "|Mon Apr 06 22:20:...| lovesongwriter|Hollis' death sce...|\n",
      "|Mon Apr 06 22:20:...|       armotley|about to file taxes |\n",
      "|Mon Apr 06 22:20:...|     starkissed|@LettyA ahh ive a...|\n",
      "|Mon Apr 06 22:20:...|      gi_gi_bee|@FakerPattyPattz ...|\n",
      "+--------------------+---------------+--------------------+\n",
      "only showing top 20 rows\n",
      "\n"
     ]
    }
   ],
   "source": [
    "\n",
    "# Filter the DataFrame for entries in April and using 'time' and 'username' columns\n",
    "renamed_body.filter(col('time').substr(5, 3) == 'Apr').select('time', 'username','tweet').show()\n"
   ]
  },
  {
   "cell_type": "code",
   "execution_count": 92,
   "id": "d6f355c4",
   "metadata": {},
   "outputs": [
    {
     "name": "stderr",
     "output_type": "stream",
     "text": [
      "[Stage 124:>                                                        (0 + 1) / 1]\r"
     ]
    },
    {
     "name": "stdout",
     "output_type": "stream",
     "text": [
      "+-------+----------+--------------------+--------+---------+--------------------+\n",
      "|user_id|    number|                time|   query| username|               tweet|\n",
      "+-------+----------+--------------------+--------+---------+--------------------+\n",
      "|   2755|1468444945|Tue Apr 07 01:42:...|NO_QUERY|kateblogs|@rhyswynne That's...|\n",
      "| 831109|1557400928|Sun Apr 19 03:53:...|NO_QUERY|kateblogs|Good morning  Or ...|\n",
      "| 831327|1557429675|Sun Apr 19 04:03:...|NO_QUERY|kateblogs|@liamvickery Hi  ...|\n",
      "+-------+----------+--------------------+--------+---------+--------------------+\n",
      "\n"
     ]
    },
    {
     "name": "stderr",
     "output_type": "stream",
     "text": [
      "                                                                                \r"
     ]
    }
   ],
   "source": [
    "# Filtering based on conditions for 'time' and 'username'\n",
    "renamed_body.where((renamed_body['time'].like('%Apr%')) & (renamed_body['username'] == 'kateblogs')).show()\n"
   ]
  },
  {
   "cell_type": "markdown",
   "id": "7f6e7315",
   "metadata": {},
   "source": [
    "# Aggregations"
   ]
  },
  {
   "cell_type": "code",
   "execution_count": 93,
   "id": "0bdf1d5e",
   "metadata": {},
   "outputs": [
    {
     "name": "stderr",
     "output_type": "stream",
     "text": [
      "[Stage 125:>                                                        (0 + 2) / 2]\r"
     ]
    },
    {
     "name": "stdout",
     "output_type": "stream",
     "text": [
      "+---------------+-----+\n",
      "|       username|count|\n",
      "+---------------+-----+\n",
      "|     megan_rice|   15|\n",
      "|        Daniiej|    3|\n",
      "|         MeghTW|    1|\n",
      "|   candicebunny|    1|\n",
      "|stranger_danger|   14|\n",
      "|  divingkid2001|    1|\n",
      "|    Lilli_Allen|    1|\n",
      "|        caaaami|    1|\n",
      "|       J_Moneyy|    7|\n",
      "|        SoEdith|    5|\n",
      "|     convoy3571|   13|\n",
      "|       kyrabeth|    1|\n",
      "|      kateblogs|   75|\n",
      "|    lovelylivxo|   16|\n",
      "|       irlbinky|    3|\n",
      "|        Ste1987|   50|\n",
      "|       squintoo|    1|\n",
      "|     PhantomV48|    2|\n",
      "|        sophizz|    2|\n",
      "|      tink68113|    1|\n",
      "+---------------+-----+\n",
      "only showing top 20 rows\n",
      "\n"
     ]
    },
    {
     "name": "stderr",
     "output_type": "stream",
     "text": [
      "                                                                                \r"
     ]
    }
   ],
   "source": [
    "renamed_body.groupBy('username').count().show()"
   ]
  },
  {
   "cell_type": "code",
   "execution_count": 94,
   "id": "5c3485ce",
   "metadata": {},
   "outputs": [
    {
     "name": "stdout",
     "output_type": "stream",
     "text": [
      " *** Aggregation for time ***\n"
     ]
    },
    {
     "name": "stderr",
     "output_type": "stream",
     "text": [
      "                                                                                \r"
     ]
    },
    {
     "name": "stdout",
     "output_type": "stream",
     "text": [
      "+----------------------------+-----+\n",
      "|time                        |count|\n",
      "+----------------------------+-----+\n",
      "|Mon Jun 15 12:53:14 PDT 2009|20   |\n",
      "|Fri May 22 05:10:17 PDT 2009|17   |\n",
      "|Mon Jun 15 13:39:50 PDT 2009|17   |\n",
      "|Fri May 29 13:40:04 PDT 2009|17   |\n",
      "|Fri Jun 05 11:05:33 PDT 2009|16   |\n",
      "|Fri Jun 05 14:13:07 PDT 2009|16   |\n",
      "|Mon Jun 01 12:25:21 PDT 2009|15   |\n",
      "|Mon Jun 15 10:39:32 PDT 2009|15   |\n",
      "|Sat Jun 06 11:59:49 PDT 2009|15   |\n",
      "|Fri May 22 08:34:27 PDT 2009|15   |\n",
      "|Fri Jun 05 09:45:09 PDT 2009|15   |\n",
      "|Fri May 29 10:09:34 PDT 2009|15   |\n",
      "|Sat May 30 07:53:15 PDT 2009|15   |\n",
      "|Fri Jun 05 14:17:04 PDT 2009|15   |\n",
      "|Mon Jun 01 15:19:07 PDT 2009|15   |\n",
      "|Sat Jun 06 15:22:24 PDT 2009|14   |\n",
      "|Fri May 29 12:41:22 PDT 2009|14   |\n",
      "|Mon Jun 15 13:46:10 PDT 2009|14   |\n",
      "|Fri Jun 05 14:13:06 PDT 2009|14   |\n",
      "|Sat May 30 10:17:56 PDT 2009|14   |\n",
      "+----------------------------+-----+\n",
      "only showing top 20 rows\n",
      "\n",
      " *** Aggregation for username ***\n"
     ]
    },
    {
     "name": "stderr",
     "output_type": "stream",
     "text": [
      "[Stage 131:============================>                            (1 + 1) / 2]\r"
     ]
    },
    {
     "name": "stdout",
     "output_type": "stream",
     "text": [
      "+---------------+-----+\n",
      "|username       |count|\n",
      "+---------------+-----+\n",
      "|lost_dog       |549  |\n",
      "|webwoke        |345  |\n",
      "|tweetpet       |310  |\n",
      "|SallytheShizzle|281  |\n",
      "|VioletsCRUK    |279  |\n",
      "|mcraddictal    |276  |\n",
      "|tsarnick       |248  |\n",
      "|what_bugs_u    |246  |\n",
      "|Karen230683    |238  |\n",
      "|DarkPiano      |236  |\n",
      "|SongoftheOss   |227  |\n",
      "|Jayme1988      |225  |\n",
      "|keza34         |219  |\n",
      "|ramdomthoughts |216  |\n",
      "|shanajaca      |213  |\n",
      "|wowlew         |212  |\n",
      "|nuttychris     |211  |\n",
      "|TraceyHewins   |211  |\n",
      "|thisgoeshere   |207  |\n",
      "|Spidersamm     |205  |\n",
      "+---------------+-----+\n",
      "only showing top 20 rows\n",
      "\n",
      " *** Aggregation for tweet ***\n"
     ]
    },
    {
     "name": "stderr",
     "output_type": "stream",
     "text": [
      "[Stage 134:============================>                            (1 + 1) / 2]\r"
     ]
    },
    {
     "name": "stdout",
     "output_type": "stream",
     "text": [
      "+-------------------------------------------------------------------------------------------------------+-----+\n",
      "|tweet                                                                                                  |count|\n",
      "+-------------------------------------------------------------------------------------------------------+-----+\n",
      "|isPlayer Has Died! Sorry                                                                               |210  |\n",
      "|good morning                                                                                           |118  |\n",
      "|headache                                                                                               |115  |\n",
      "|Good morning                                                                                           |112  |\n",
      "|Headache                                                                                               |106  |\n",
      "|Not to worry, noone got that one. Next question starts in 1 minute, get your thinking caps on          |86   |\n",
      "| cant afford to see Angels and Demons, so i watched it for free: http://tr.im/lvBu                     |86   |\n",
      "|Goodnight                                                                                              |85   |\n",
      "|my tummy hurts                                                                                         |81   |\n",
      "|Jogging, isnt REALLY that cool, especially if you've got a fever                                       |80   |\n",
      "|at work                                                                                                |77   |\n",
      "|I am so so so so so bored of studying                                                                  |76   |\n",
      "|goodnight                                                                                              |70   |\n",
      "|At work                                                                                                |67   |\n",
      "|Need to send emails to 100,000  contacts? Check out EmailUnlimited on http://www.4officeautomation.com |67   |\n",
      "|My tummy hurts                                                                                         |67   |\n",
      "|Good Morning                                                                                           |64   |\n",
      "|my head hurts                                                                                          |54   |\n",
      "|homework                                                                                               |53   |\n",
      "|Off to work                                                                                            |52   |\n",
      "+-------------------------------------------------------------------------------------------------------+-----+\n",
      "only showing top 20 rows\n",
      "\n"
     ]
    },
    {
     "name": "stderr",
     "output_type": "stream",
     "text": [
      "                                                                                \r"
     ]
    }
   ],
   "source": [
    "from pyspark.sql import SparkSession\n",
    "\n",
    "# 'user_id, number and query are being exclude from the analysis\n",
    "\n",
    "for col in renamed_body.columns:\n",
    "    if col not in['user_id','number','query']:\n",
    "        print(f\" *** Aggregation for {col} ***\")\n",
    "        renamed_body.groupBy(col).count().orderBy('count', ascending=False).show(truncate=False)\n",
    "\n"
   ]
  },
  {
   "cell_type": "markdown",
   "id": "931356ee",
   "metadata": {},
   "source": [
    "# Sorting"
   ]
  },
  {
   "cell_type": "code",
   "execution_count": 95,
   "id": "bf5c04d8",
   "metadata": {},
   "outputs": [
    {
     "name": "stderr",
     "output_type": "stream",
     "text": [
      "[Stage 137:============================>                            (1 + 1) / 2]\r"
     ]
    },
    {
     "name": "stdout",
     "output_type": "stream",
     "text": [
      "+-------+----------+--------------------+--------+---------------+--------------------+\n",
      "|user_id|    number|                time|   query|       username|               tweet|\n",
      "+-------+----------+--------------------+--------+---------------+--------------------+\n",
      "| 999999|1879943219|Thu May 21 23:36:...|NO_QUERY|     redcomet81|@MsTeagan ...and ...|\n",
      "| 999998|1879943113|Thu May 21 23:36:...|NO_QUERY|        virmani|@jigardoshi neah....|\n",
      "| 999997|1879942975|Thu May 21 23:36:...|NO_QUERY|          znmeb|@Brat13 Hell, Win...|\n",
      "| 999996|1879942922|Thu May 21 23:36:...|NO_QUERY|       nick1975|@vactress http://...|\n",
      "| 999995|1879942807|Thu May 21 23:36:...|NO_QUERY|        divabat|@healingsinger th...|\n",
      "| 999994|1879942758|Thu May 21 23:36:...|NO_QUERY|michebuckingham|@dannygokey I can...|\n",
      "| 999993|1879942640|Thu May 21 23:36:...|NO_QUERY|        CB_PWNS|Almost whole week...|\n",
      "| 999992|1879942629|Thu May 21 23:36:...|NO_QUERY|        AbbyRom|here in my cousin...|\n",
      "| 999991|1879942610|Thu May 21 23:36:...|NO_QUERY|    TytanTrevyn|@trina_blue aww.....|\n",
      "| 999990|1879942462|Thu May 21 23:36:...|NO_QUERY|  RyanMacintosh|Good morning world! |\n",
      "|  99999|1793821002|Thu May 14 04:06:...|NO_QUERY|   louiseydeesy|@JosieHobo I WOUL...|\n",
      "| 999989|1879942448|Thu May 21 23:36:...|NO_QUERY|      beachit23|Lol on a school n...|\n",
      "| 999988|1879942442|Thu May 21 23:36:...|NO_QUERY|      loborohan|@aDeSe OPPS WOT W...|\n",
      "| 999987|1879942441|Thu May 21 23:36:...|NO_QUERY|    liammclaney|Finished and read...|\n",
      "| 999986|1879942426|Thu May 21 23:36:...|NO_QUERY|andinipresident|@nadhirarchangel ...|\n",
      "| 999985|1879942372|Thu May 21 23:36:...|NO_QUERY|  MelissaStairs|@MckMama Are you ...|\n",
      "| 999984|1879942331|Thu May 21 23:36:...|NO_QUERY|   xoxoEmaxoxox|Blood brothers wa...|\n",
      "| 999983|1879942288|Thu May 21 23:36:...|NO_QUERY|    VAGlobeTask|Friday is always ...|\n",
      "| 999982|1879942257|Thu May 21 23:36:...|NO_QUERY|      martin239|Just out the bath...|\n",
      "| 999981|1879942222|Thu May 21 23:36:...|NO_QUERY|   leslieforman|@cwbarbour even t...|\n",
      "+-------+----------+--------------------+--------+---------------+--------------------+\n",
      "only showing top 20 rows\n",
      "\n"
     ]
    },
    {
     "name": "stderr",
     "output_type": "stream",
     "text": [
      "                                                                                \r"
     ]
    }
   ],
   "source": [
    "renamed_body.sort(\"user_id\", ascending=False).show()"
   ]
  },
  {
   "cell_type": "code",
   "execution_count": 96,
   "id": "c3d27602",
   "metadata": {},
   "outputs": [
    {
     "name": "stderr",
     "output_type": "stream",
     "text": [
      "[Stage 138:>                                                        (0 + 2) / 2]\r"
     ]
    },
    {
     "name": "stdout",
     "output_type": "stream",
     "text": [
      "+---------------+-----------+\n",
      "|username       |avg_user_id|\n",
      "+---------------+-----------+\n",
      "|bpbabe         |1599997.0  |\n",
      "|AmandaMarie1028|1599995.0  |\n",
      "|EvolveTom      |1599994.0  |\n",
      "|sdancingsteph  |1599992.0  |\n",
      "|cathriiin      |1599987.0  |\n",
      "|LISKFEST       |1599985.0  |\n",
      "|RobFoxKerr     |1599984.0  |\n",
      "|xoAurixo       |1599983.0  |\n",
      "|puchal_ek      |1599980.0  |\n",
      "|angel_sammy04  |1599979.0  |\n",
      "|LaurenMoo10    |1599978.0  |\n",
      "|millerslab     |1599972.0  |\n",
      "|adbillingsley  |1599970.0  |\n",
      "|bobzipp        |1599969.0  |\n",
      "|paligurl93     |1599967.0  |\n",
      "|heartcures     |1599964.0  |\n",
      "|dacyj          |1599962.0  |\n",
      "|tattoodancer35 |1599956.0  |\n",
      "|charitojoy     |1599954.0  |\n",
      "|stephyway      |1599951.0  |\n",
      "|xSandraaaaaa   |1599949.0  |\n",
      "|martybaltiero  |1599942.0  |\n",
      "|ajenne         |1599939.0  |\n",
      "|Essence05      |1599935.0  |\n",
      "|tly23452       |1599934.0  |\n",
      "|tkosofsky      |1599929.0  |\n",
      "|Marianne_P     |1599926.0  |\n",
      "|followtweety   |1599921.0  |\n",
      "|bendotorg      |1599920.0  |\n",
      "|Belga777       |1599918.0  |\n",
      "|spiderylue     |1599911.0  |\n",
      "|say_my_name_too|1599904.0  |\n",
      "|johnwelshphd   |1599900.0  |\n",
      "|bertseow       |1599895.0  |\n",
      "|Tarod          |1599886.0  |\n",
      "|LordVanir      |1599885.0  |\n",
      "|RaniJoy        |1599884.0  |\n",
      "|shellyboo27    |1599880.0  |\n",
      "|vickeya2009    |1599868.0  |\n",
      "|PonteStudios   |1599861.0  |\n",
      "|appliedlesson  |1599859.0  |\n",
      "|Laurendaly     |1599858.0  |\n",
      "|laughingstars  |1599854.0  |\n",
      "|jenniehager    |1599850.0  |\n",
      "|fosking        |1599849.0  |\n",
      "|ericDJ         |1599846.0  |\n",
      "|diegoBraganca  |1599845.0  |\n",
      "|rach_gal       |1599838.0  |\n",
      "|dojaclik       |1599836.0  |\n",
      "|Multicoloured  |1599830.0  |\n",
      "+---------------+-----------+\n",
      "only showing top 50 rows\n",
      "\n"
     ]
    },
    {
     "name": "stderr",
     "output_type": "stream",
     "text": [
      "                                                                                \r"
     ]
    }
   ],
   "source": [
    "\n",
    "# Group by 'username' and find the average 'user_id' for each 'username'\n",
    "renamed_body.groupBy('username').agg(F.avg('user_id').alias('avg_user_id')).orderBy('avg_user_id', ascending=False).show(50, False)\n"
   ]
  },
  {
   "cell_type": "markdown",
   "id": "bef443ce",
   "metadata": {},
   "source": [
    "# Collect"
   ]
  },
  {
   "cell_type": "code",
   "execution_count": 97,
   "id": "32acfb69",
   "metadata": {},
   "outputs": [
    {
     "name": "stderr",
     "output_type": "stream",
     "text": [
      "[Stage 141:============================>                            (1 + 1) / 2]\r"
     ]
    },
    {
     "name": "stdout",
     "output_type": "stream",
     "text": [
      "+---------------+--------------------+\n",
      "|       username|     specific_tweets|\n",
      "+---------------+--------------------+\n",
      "|000matthewkelly|[Just had a faceb...|\n",
      "|      000yea000|[thank God we fin...|\n",
      "|      0010x0010|[@JoannaGoff  Rea...|\n",
      "|    001BabyGirl|[@ianvisagie Why?...|\n",
      "|    007LouiseOB|[@juliana6 I sit ...|\n",
      "|      007buddha|[OMG one hour lim...|\n",
      "|       007peter|[@NaniWaialeale â...|\n",
      "|      007wisdom|[&quot;All that w...|\n",
      "|    00Jessica81|[ I think I pulle...|\n",
      "|        00KEVEN|[@Siope haven't h...|\n",
      "|    00KufiKyd00|[@MontyAyE OmG bo...|\n",
      "|       00Sleepy|[@bindermichi the...|\n",
      "|          00Syd|[7 days until I c...|\n",
      "|    00YungSwagg|[I HATE MOVING AN...|\n",
      "|    00blondey00|[good luck fuzzy ...|\n",
      "|          00cat|[@DeclanCopyright...|\n",
      "|      00ceilidh|[a mosquito just ...|\n",
      "|          00deb|[@ItsJustDave Wha...|\n",
      "|       00kate00|[its been pouring...|\n",
      "|      00polloto|[wasting time on ...|\n",
      "+---------------+--------------------+\n",
      "only showing top 20 rows\n",
      "\n"
     ]
    },
    {
     "name": "stderr",
     "output_type": "stream",
     "text": [
      "                                                                                \r"
     ]
    }
   ],
   "source": [
    "# Collect _set \n",
    "renamed_body.groupBy(\"username\").agg(F.collect_set(\"tweet\").alias(\"specific_tweets\")).show()\n"
   ]
  },
  {
   "cell_type": "code",
   "execution_count": 98,
   "id": "d7afe94a",
   "metadata": {},
   "outputs": [],
   "source": [
    "### UDFs: User defined functions"
   ]
  },
  {
   "cell_type": "code",
   "execution_count": 103,
   "id": "849fc03a",
   "metadata": {},
   "outputs": [
    {
     "name": "stdout",
     "output_type": "stream",
     "text": [
      "+--------------------+--------------+\n",
      "|               tweet|tweet_category|\n",
      "+--------------------+--------------+\n",
      "|@switchfoot http:...|          Long|\n",
      "|is upset that he ...|          Long|\n",
      "|@Kenichan I dived...|        Medium|\n",
      "|my whole body fee...|         Short|\n",
      "|@nationwideclass ...|          Long|\n",
      "|@Kwesidei not the...|         Short|\n",
      "|         Need a hug |         Short|\n",
      "|@LOLTrish hey  lo...|        Medium|\n",
      "|@Tatiana_K nope t...|         Short|\n",
      "|@twittera que me ...|         Short|\n",
      "|spring break in p...|         Short|\n",
      "|I just re-pierced...|         Short|\n",
      "|@caregiving I cou...|        Medium|\n",
      "|@octolinz16 It it...|        Medium|\n",
      "|@smarrison i woul...|          Long|\n",
      "|@iamjazzyfizzle I...|          Long|\n",
      "|Hollis' death sce...|        Medium|\n",
      "|about to file taxes |         Short|\n",
      "|@LettyA ahh ive a...|        Medium|\n",
      "|@FakerPattyPattz ...|        Medium|\n",
      "+--------------------+--------------+\n",
      "only showing top 20 rows\n",
      "\n"
     ]
    },
    {
     "name": "stderr",
     "output_type": "stream",
     "text": [
      "                                                                                \r"
     ]
    }
   ],
   "source": [
    "from pyspark.sql.functions import udf\n",
    "from pyspark.sql.types import StringType\n",
    "\n",
    "# Define a function to categorize tweets based on their length\n",
    "def tweet_category(tweet):\n",
    "    if len(tweet) <= 50:\n",
    "        return 'Short'\n",
    "    elif len(tweet) <= 100:\n",
    "        return 'Medium'\n",
    "    else:\n",
    "        return 'Long'\n",
    "\n",
    "# Convert the function to a User Defined Function (UDF)\n",
    "tweet_category_udf = udf(tweet_category, StringType())\n",
    "\n",
    "# Apply the UDF to create a new column 'tweet_category'\n",
    "renamed_body = renamed_body.withColumn('tweet_category', tweet_category_udf(renamed_body['tweet']))\n",
    "\n",
    "# Display the original 'tweet' and the newly created 'tweet_category'\n",
    "renamed_body.select('tweet', 'tweet_category').show()\n"
   ]
  },
  {
   "cell_type": "code",
   "execution_count": 105,
   "id": "07f0e54f",
   "metadata": {},
   "outputs": [
    {
     "name": "stderr",
     "output_type": "stream",
     "text": [
      "[Stage 146:============================>                            (1 + 1) / 2]\r"
     ]
    },
    {
     "name": "stdout",
     "output_type": "stream",
     "text": [
      "+--------------+------+\n",
      "|tweet_category| count|\n",
      "+--------------+------+\n",
      "|        Medium|658103|\n",
      "|          Long|431083|\n",
      "|         Short|510814|\n",
      "+--------------+------+\n",
      "\n"
     ]
    },
    {
     "name": "stderr",
     "output_type": "stream",
     "text": [
      "                                                                                \r"
     ]
    }
   ],
   "source": [
    "renamed_body.groupby(\"tweet_category\").count().show()"
   ]
  },
  {
   "cell_type": "markdown",
   "id": "4c8ad4c1",
   "metadata": {},
   "source": [
    "# Joinging "
   ]
  },
  {
   "cell_type": "code",
   "execution_count": 113,
   "id": "b9c9044c",
   "metadata": {},
   "outputs": [
    {
     "name": "stderr",
     "output_type": "stream",
     "text": [
      "[Stage 158:============================>                            (1 + 1) / 2]\r"
     ]
    },
    {
     "name": "stdout",
     "output_type": "stream",
     "text": [
      "+---------------+-----+\n",
      "|username       |count|\n",
      "+---------------+-----+\n",
      "|megan_rice     |15   |\n",
      "|Daniiej        |3    |\n",
      "|MeghTW         |1    |\n",
      "|candicebunny   |1    |\n",
      "|stranger_danger|14   |\n",
      "|divingkid2001  |1    |\n",
      "|Lilli_Allen    |1    |\n",
      "|caaaami        |1    |\n",
      "|J_Moneyy       |7    |\n",
      "|SoEdith        |5    |\n",
      "|convoy3571     |13   |\n",
      "|kyrabeth       |1    |\n",
      "|kateblogs      |75   |\n",
      "|lovelylivxo    |16   |\n",
      "|irlbinky       |3    |\n",
      "|Ste1987        |50   |\n",
      "|squintoo       |1    |\n",
      "|PhantomV48     |2    |\n",
      "|sophizz        |2    |\n",
      "|tink68113      |1    |\n",
      "|melliejellie   |2    |\n",
      "|Merlene        |14   |\n",
      "|marybethbeech  |12   |\n",
      "|Svalentyna     |1    |\n",
      "|jimdangereux   |1    |\n",
      "|b_a88          |3    |\n",
      "|oobinsnaffa    |2    |\n",
      "|quickbrownfoxnc|1    |\n",
      "|missmeganbunny |1    |\n",
      "|bakerbelle     |1    |\n",
      "|backinstereo   |2    |\n",
      "|_CastrO_       |1    |\n",
      "|Emogirltalk    |3    |\n",
      "|lauraxz        |1    |\n",
      "|StinaStar      |2    |\n",
      "|bayuhlee       |5    |\n",
      "|Keleigh5454    |1    |\n",
      "|DIYSara        |26   |\n",
      "|xPhaedra77x    |1    |\n",
      "|beks06         |2    |\n",
      "|jocelynbrooks  |4    |\n",
      "|spookyfox4     |1    |\n",
      "|erikarhanetan  |23   |\n",
      "|somealexisgirl |1    |\n",
      "|rteeny         |1    |\n",
      "|jenisaac       |6    |\n",
      "|t1mbos         |2    |\n",
      "|kkelty         |1    |\n",
      "|jayjayuk1      |3    |\n",
      "|acutiep2tee    |2    |\n",
      "+---------------+-----+\n",
      "only showing top 50 rows\n",
      "\n"
     ]
    },
    {
     "name": "stderr",
     "output_type": "stream",
     "text": [
      "                                                                                \r"
     ]
    }
   ],
   "source": [
    "renamed_body.groupby(\"username\").count().show(50, False)"
   ]
  },
  {
   "cell_type": "code",
   "execution_count": 116,
   "id": "42c46b33",
   "metadata": {},
   "outputs": [],
   "source": [
    "from pyspark.sql.types import StructType, StructField, StringType\n",
    "\n",
    "username_data = spark.createDataFrame([\n",
    "    ('megan_rice', 'MR'),\n",
    "    ('erikarhanetan ', 'EK'),\n",
    "    ('DIYSara', 'DS'),\n",
    "    ('Merlene', 'DL'),\n",
    "    ('marybethbeech', 'MB'),\n",
    "    ('kateblogs', 'KB'),\n",
    "    ('lovelylivxo', 'LX')\n",
    "], schema=StructType().add(\"username\", \"string\").add(\"Abbreviation\", \"string\"))\n"
   ]
  },
  {
   "cell_type": "code",
   "execution_count": 117,
   "id": "b7e829eb",
   "metadata": {},
   "outputs": [
    {
     "name": "stderr",
     "output_type": "stream",
     "text": [
      "[Stage 161:>                                                        (0 + 1) / 1]\r"
     ]
    },
    {
     "name": "stdout",
     "output_type": "stream",
     "text": [
      "+--------------+------------+\n",
      "|      username|Abbreviation|\n",
      "+--------------+------------+\n",
      "|    megan_rice|          MR|\n",
      "|erikarhanetan |          EK|\n",
      "|       DIYSara|          DS|\n",
      "|       Merlene|          DL|\n",
      "| marybethbeech|          MB|\n",
      "|     kateblogs|          KB|\n",
      "|   lovelylivxo|          LX|\n",
      "+--------------+------------+\n",
      "\n"
     ]
    },
    {
     "name": "stderr",
     "output_type": "stream",
     "text": [
      "                                                                                \r"
     ]
    }
   ],
   "source": [
    "username_data.show()"
   ]
  },
  {
   "cell_type": "code",
   "execution_count": 119,
   "id": "c6e905eb",
   "metadata": {},
   "outputs": [],
   "source": [
    "\n",
    "new_df=renamed_body.join(username_data,on='username')"
   ]
  },
  {
   "cell_type": "code",
   "execution_count": 120,
   "id": "4487c3ec",
   "metadata": {},
   "outputs": [
    {
     "name": "stderr",
     "output_type": "stream",
     "text": [
      "[Stage 167:>                                                        (0 + 2) / 2]\r"
     ]
    },
    {
     "name": "stdout",
     "output_type": "stream",
     "text": [
      "+------------+-----+\n",
      "|Abbreviation|count|\n",
      "+------------+-----+\n",
      "|LX          |16   |\n",
      "|DL          |14   |\n",
      "|MR          |15   |\n",
      "|MB          |12   |\n",
      "|KB          |75   |\n",
      "|DS          |26   |\n",
      "+------------+-----+\n",
      "\n"
     ]
    },
    {
     "name": "stderr",
     "output_type": "stream",
     "text": [
      "                                                                                \r"
     ]
    }
   ],
   "source": [
    "new_df.groupby(\"Abbreviation\").count().show(50,False)"
   ]
  },
  {
   "cell_type": "markdown",
   "id": "af140d27",
   "metadata": {},
   "source": [
    "# Working with the dataframe using Pyspark"
   ]
  },
  {
   "cell_type": "code",
   "execution_count": 122,
   "id": "c0483934",
   "metadata": {},
   "outputs": [
    {
     "name": "stdout",
     "output_type": "stream",
     "text": [
      "+---+----------+--------------------+--------+---------------+--------------------+\n",
      "|_c0|       _c1|                 _c2|     _c3|            _c4|                 _c5|\n",
      "+---+----------+--------------------+--------+---------------+--------------------+\n",
      "|  0|1467810369|Mon Apr 06 22:19:...|NO_QUERY|_TheSpecialOne_|@switchfoot http:...|\n",
      "|  1|1467810672|Mon Apr 06 22:19:...|NO_QUERY|  scotthamilton|is upset that he ...|\n",
      "|  2|1467810917|Mon Apr 06 22:19:...|NO_QUERY|       mattycus|@Kenichan I dived...|\n",
      "|  3|1467811184|Mon Apr 06 22:19:...|NO_QUERY|        ElleCTF|my whole body fee...|\n",
      "|  4|1467811193|Mon Apr 06 22:19:...|NO_QUERY|         Karoli|@nationwideclass ...|\n",
      "|  5|1467811372|Mon Apr 06 22:20:...|NO_QUERY|       joy_wolf|@Kwesidei not the...|\n",
      "|  6|1467811592|Mon Apr 06 22:20:...|NO_QUERY|        mybirch|         Need a hug |\n",
      "|  7|1467811594|Mon Apr 06 22:20:...|NO_QUERY|           coZZ|@LOLTrish hey  lo...|\n",
      "|  8|1467811795|Mon Apr 06 22:20:...|NO_QUERY|2Hood4Hollywood|@Tatiana_K nope t...|\n",
      "|  9|1467812025|Mon Apr 06 22:20:...|NO_QUERY|        mimismo|@twittera que me ...|\n",
      "| 10|1467812416|Mon Apr 06 22:20:...|NO_QUERY| erinx3leannexo|spring break in p...|\n",
      "| 11|1467812579|Mon Apr 06 22:20:...|NO_QUERY|   pardonlauren|I just re-pierced...|\n",
      "| 12|1467812723|Mon Apr 06 22:20:...|NO_QUERY|           TLeC|@caregiving I cou...|\n",
      "| 13|1467812771|Mon Apr 06 22:20:...|NO_QUERY|robrobbierobert|@octolinz16 It it...|\n",
      "| 14|1467812784|Mon Apr 06 22:20:...|NO_QUERY|    bayofwolves|@smarrison i woul...|\n",
      "| 15|1467812799|Mon Apr 06 22:20:...|NO_QUERY|     HairByJess|@iamjazzyfizzle I...|\n",
      "| 16|1467812964|Mon Apr 06 22:20:...|NO_QUERY| lovesongwriter|Hollis' death sce...|\n",
      "| 17|1467813137|Mon Apr 06 22:20:...|NO_QUERY|       armotley|about to file taxes |\n",
      "| 18|1467813579|Mon Apr 06 22:20:...|NO_QUERY|     starkissed|@LettyA ahh ive a...|\n",
      "| 19|1467813782|Mon Apr 06 22:20:...|NO_QUERY|      gi_gi_bee|@FakerPattyPattz ...|\n",
      "+---+----------+--------------------+--------+---------------+--------------------+\n",
      "only showing top 20 rows\n",
      "\n"
     ]
    }
   ],
   "source": [
    "\n",
    "# Creates a temporary view using the DataFrame\n",
    "body.createOrReplaceTempView(\"tweets\")\n",
    "\n",
    "# Display the structure of the DataFrame\n",
    "body.show()\n"
   ]
  },
  {
   "cell_type": "code",
   "execution_count": 123,
   "id": "8e36b196",
   "metadata": {},
   "outputs": [
    {
     "name": "stdout",
     "output_type": "stream",
     "text": [
      "+--------+--------------------+--------------------+-------+---------------+\n",
      "|   query|                time|               tweet|user_id|       username|\n",
      "+--------+--------------------+--------------------+-------+---------------+\n",
      "|NO_QUERY|Mon Apr 06 22:19:...|@switchfoot http:...|      0|_TheSpecialOne_|\n",
      "|NO_QUERY|Mon Apr 06 22:19:...|is upset that he ...|      1|  scotthamilton|\n",
      "|NO_QUERY|Mon Apr 06 22:19:...|@Kenichan I dived...|      2|       mattycus|\n",
      "+--------+--------------------+--------------------+-------+---------------+\n",
      "\n"
     ]
    }
   ],
   "source": [
    "# Define a list of strings representing JSON objects\n",
    "jsonStrings = [\n",
    "    '{\"user_id\":0,\"time\":\"Mon Apr 06 22:19:45 PDT 2009\",\"query\":\"NO_QUERY\",\"username\":\"_TheSpecialOne_\",\"tweet\":\"@switchfoot http://twitpic.com/2y1zl - Awww, that\\'s a bummer.  You shoulda got David Carr of Third Day to do it. ;D\"}',\n",
    "    '{\"user_id\":1,\"time\":\"Mon Apr 06 22:19:49 PDT 2009\",\"query\":\"NO_QUERY\",\"username\":\"scotthamilton\",\"tweet\":\"is upset that he can\\'t update his Facebook by texting it... and might cry as a result  School today also. Blah!\"}',\n",
    "    '{\"user_id\":2,\"time\":\"Mon Apr 06 22:19:53 PDT 2009\",\"query\":\"NO_QUERY\",\"username\":\"mattycus\",\"tweet\":\"@Kenichan I dived many times for the ball. Managed to save 50%  The rest go out of bounds\"}',\n",
    "    # Add more JSON strings as needed\n",
    "]\n",
    "\n",
    "# Create an RDD[String] from the list of JSON strings\n",
    "jsonStringsRDD = sc.parallelize(jsonStrings)\n",
    "\n",
    "# Create a DataFrame for the JSON dataset\n",
    "jsonDF = spark.read.json(jsonStringsRDD)\n",
    "\n",
    "# Show the contents of the new DataFrame\n",
    "jsonDF.show()\n"
   ]
  },
  {
   "cell_type": "code",
   "execution_count": 126,
   "id": "273fbbdb",
   "metadata": {},
   "outputs": [],
   "source": [
    "# Define the schema for the DataFrame\n",
    "from pyspark.sql.types import StructType, StructField, StringType\n",
    "\n",
    "schema = StructType([\n",
    "    StructField(\"user_id\", StringType(), True),\n",
    "    StructField(\"number_id\", StringType(), True),\n",
    "    StructField(\"time\", StringType(), True),\n",
    "    StructField(\"query\", StringType(), True),\n",
    "    StructField(\"username\", StringType(), True),\n",
    "    StructField(\"tweet\", StringType(), True)\n",
    "])\n"
   ]
  },
  {
   "cell_type": "code",
   "execution_count": 128,
   "id": "cfa10f64",
   "metadata": {},
   "outputs": [
    {
     "name": "stdout",
     "output_type": "stream",
     "text": [
      "+-------+----------+--------------------+--------+---------------+--------------------+\n",
      "|user_id| number_id|                time|   query|       username|               tweet|\n",
      "+-------+----------+--------------------+--------+---------------+--------------------+\n",
      "|      0|      null|Mon Apr 06 22:19:...|NO_QUERY|_TheSpecialOne_|@switchfoot http:...|\n",
      "|      1|1467810672|Mon Apr 06 22:19:...|NO_QUERY|  scotthamilton|is upset that he ...|\n",
      "|      2|1467810917|Mon Apr 06 22:19:...|NO_QUERY|       mattycus|@Kenichan I dived...|\n",
      "+-------+----------+--------------------+--------+---------------+--------------------+\n",
      "\n"
     ]
    }
   ],
   "source": [
    "# Create a new DataFrame with null values\n",
    "body = spark.createDataFrame([\n",
    "    (\"0\", None, \"Mon Apr 06 22:19:45 PDT 2009\", \"NO_QUERY\", \"_TheSpecialOne_\", \"@switchfoot http://twitpic.com/2y1zl - Awww, that's a bummer. You shoulda got David Carr of Third Day to do it. ;D\"),\n",
    "    (\"1\", \"1467810672\", \"Mon Apr 06 22:19:49 PDT 2009\", \"NO_QUERY\", \"scotthamilton\", \"is upset that he can't update his Facebook by texting it... and might cry as a result School today also. Blah!\"),\n",
    "    (\"2\", \"1467810917\", \"Mon Apr 06 22:19:53 PDT 2009\", \"NO_QUERY\", \"mattycus\", \"@Kenichan I dived many times for the ball. Managed to save 50% The rest go out of bounds\")\n",
    "], schema=schema)\n",
    "# Show the DataFrame with null values\n",
    "body.show()"
   ]
  },
  {
   "cell_type": "code",
   "execution_count": 129,
   "id": "abfb4d56",
   "metadata": {},
   "outputs": [
    {
     "name": "stdout",
     "output_type": "stream",
     "text": [
      "+-------+----------+--------------------+--------+---------------+--------------------+\n",
      "|user_id| number_id|                time|   query|       username|               tweet|\n",
      "+-------+----------+--------------------+--------+---------------+--------------------+\n",
      "|      0|         0|Mon Apr 06 22:19:...|NO_QUERY|_TheSpecialOne_|@switchfoot http:...|\n",
      "|      1|1467810672|Mon Apr 06 22:19:...|NO_QUERY|  scotthamilton|is upset that he ...|\n",
      "|      2|1467810917|Mon Apr 06 22:19:...|NO_QUERY|       mattycus|@Kenichan I dived...|\n",
      "+-------+----------+--------------------+--------+---------------+--------------------+\n",
      "\n"
     ]
    }
   ],
   "source": [
    "# Fill all null values with 0\n",
    "body.fillna('0').show()"
   ]
  },
  {
   "cell_type": "code",
   "execution_count": 130,
   "id": "9b363950",
   "metadata": {},
   "outputs": [],
   "source": [
    "# Fill null values with specific values for each column\n",
    "body_filled = body.fillna({\n",
    "    'number_id': '0',  # Replace null values in _c1 with '0'\n",
    "    'time': 'Unknown',  # Replace null values in _c2 with 'Unknown'\n",
    "    'query': 'NO_QUERY',\n",
    "    'username': 'none',\n",
    "    'tweet': 'No tweet'\n",
    "})\n"
   ]
  },
  {
   "cell_type": "code",
   "execution_count": 131,
   "id": "7225e909",
   "metadata": {},
   "outputs": [
    {
     "name": "stdout",
     "output_type": "stream",
     "text": [
      "+-------+----------+--------------------+--------+---------------+--------------------+\n",
      "|user_id| number_id|                time|   query|       username|               tweet|\n",
      "+-------+----------+--------------------+--------+---------------+--------------------+\n",
      "|      0|         0|Mon Apr 06 22:19:...|NO_QUERY|_TheSpecialOne_|@switchfoot http:...|\n",
      "|      1|1467810672|Mon Apr 06 22:19:...|NO_QUERY|  scotthamilton|is upset that he ...|\n",
      "|      2|1467810917|Mon Apr 06 22:19:...|NO_QUERY|       mattycus|@Kenichan I dived...|\n",
      "+-------+----------+--------------------+--------+---------------+--------------------+\n",
      "\n"
     ]
    }
   ],
   "source": [
    "body_filled.show(10)"
   ]
  },
  {
   "cell_type": "code",
   "execution_count": 132,
   "id": "dfd7379c",
   "metadata": {},
   "outputs": [
    {
     "name": "stdout",
     "output_type": "stream",
     "text": [
      "+-------+----------+--------------------+--------+-------------+--------------------+\n",
      "|user_id| number_id|                time|   query|     username|               tweet|\n",
      "+-------+----------+--------------------+--------+-------------+--------------------+\n",
      "|      1|1467810672|Mon Apr 06 22:19:...|NO_QUERY|scotthamilton|is upset that he ...|\n",
      "|      2|1467810917|Mon Apr 06 22:19:...|NO_QUERY|     mattycus|@Kenichan I dived...|\n",
      "+-------+----------+--------------------+--------+-------------+--------------------+\n",
      "\n"
     ]
    }
   ],
   "source": [
    "# Return new df omitting rows with null values\n",
    "body.na.drop().show()"
   ]
  },
  {
   "cell_type": "code",
   "execution_count": 133,
   "id": "7e146a0b",
   "metadata": {},
   "outputs": [
    {
     "name": "stdout",
     "output_type": "stream",
     "text": [
      "+-------+----------+--------------------+--------+-------------+--------------------+\n",
      "|user_id| number_id|                time|   query|     username|               tweet|\n",
      "+-------+----------+--------------------+--------+-------------+--------------------+\n",
      "|      1|1467810672|Mon Apr 06 22:19:...|NO_QUERY|scotthamilton|is upset that he ...|\n",
      "|      2|1467810917|Mon Apr 06 22:19:...|NO_QUERY|     mattycus|@Kenichan I dived...|\n",
      "+-------+----------+--------------------+--------+-------------+--------------------+\n",
      "\n"
     ]
    }
   ],
   "source": [
    "body.na.drop(subset='number_id').show()"
   ]
  },
  {
   "cell_type": "code",
   "execution_count": 134,
   "id": "c01a1089",
   "metadata": {},
   "outputs": [
    {
     "name": "stdout",
     "output_type": "stream",
     "text": [
      "+-------+----------+--------------------+---------------+--------------------+\n",
      "|user_id| number_id|                time|       username|               tweet|\n",
      "+-------+----------+--------------------+---------------+--------------------+\n",
      "|      0|      null|Mon Apr 06 22:19:...|_TheSpecialOne_|@switchfoot http:...|\n",
      "|      1|1467810672|Mon Apr 06 22:19:...|  scotthamilton|is upset that he ...|\n",
      "|      2|1467810917|Mon Apr 06 22:19:...|       mattycus|@Kenichan I dived...|\n",
      "+-------+----------+--------------------+---------------+--------------------+\n",
      "\n"
     ]
    }
   ],
   "source": [
    "#deleting column \n",
    "body.drop('query').show()"
   ]
  },
  {
   "cell_type": "code",
   "execution_count": null,
   "id": "0b1e3006",
   "metadata": {},
   "outputs": [],
   "source": []
  }
 ],
 "metadata": {
  "kernelspec": {
   "display_name": "Python 3 (ipykernel)",
   "language": "python",
   "name": "python3"
  },
  "language_info": {
   "codemirror_mode": {
    "name": "ipython",
    "version": 3
   },
   "file_extension": ".py",
   "mimetype": "text/x-python",
   "name": "python",
   "nbconvert_exporter": "python",
   "pygments_lexer": "ipython3",
   "version": "3.10.12"
  }
 },
 "nbformat": 4,
 "nbformat_minor": 5
}
