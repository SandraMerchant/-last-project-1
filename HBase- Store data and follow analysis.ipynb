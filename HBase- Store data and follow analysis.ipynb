{
 "cells": [
  {
   "cell_type": "code",
   "execution_count": 17,
   "id": "937b5617",
   "metadata": {},
   "outputs": [
    {
     "data": {
      "text/plain": [
       "'local[*]'"
      ]
     },
     "execution_count": 17,
     "metadata": {},
     "output_type": "execute_result"
    }
   ],
   "source": [
    "sc.master"
   ]
  },
  {
   "cell_type": "code",
   "execution_count": 18,
   "id": "091a1741",
   "metadata": {},
   "outputs": [],
   "source": [
    "sc = spark.sparkContext\n",
    "\n",
    "path =\"/user2/students.csv\""
   ]
  },
  {
   "cell_type": "code",
   "execution_count": 19,
   "id": "71b1fc17",
   "metadata": {},
   "outputs": [],
   "source": [
    "body = spark.read.csv(path)\n"
   ]
  },
  {
   "cell_type": "code",
   "execution_count": 20,
   "id": "b96e948c",
   "metadata": {},
   "outputs": [
    {
     "name": "stdout",
     "output_type": "stream",
     "text": [
      "+---+--------------+----------+------+\n",
      "|_c0|           _c1|       _c2|   _c3|\n",
      "+---+--------------+----------+------+\n",
      "| id|number_courses|time_study| marks|\n",
      "|  1|             3|     4.508|19.202|\n",
      "|  2|             4|     0.096| 7.734|\n",
      "|  3|             4|     3.133|13.811|\n",
      "+---+--------------+----------+------+\n",
      "\n"
     ]
    }
   ],
   "source": [
    "body.show()"
   ]
  },
  {
   "cell_type": "code",
   "execution_count": 21,
   "id": "9a3a2270",
   "metadata": {},
   "outputs": [
    {
     "name": "stdout",
     "output_type": "stream",
     "text": [
      "root\n",
      " |-- _c0: string (nullable = true)\n",
      " |-- _c1: string (nullable = true)\n",
      " |-- _c2: string (nullable = true)\n",
      " |-- _c3: string (nullable = true)\n",
      "\n"
     ]
    }
   ],
   "source": [
    "body.printSchema()"
   ]
  },
  {
   "cell_type": "code",
   "execution_count": 22,
   "id": "102cf043",
   "metadata": {},
   "outputs": [],
   "source": [
    "body.createOrReplaceTempView(\"body\")"
   ]
  },
  {
   "cell_type": "code",
   "execution_count": 23,
   "id": "9e2cdeb4",
   "metadata": {},
   "outputs": [
    {
     "name": "stdout",
     "output_type": "stream",
     "text": [
      "root\n",
      " |-- _c0: string (nullable = true)\n",
      " |-- _c1: string (nullable = true)\n",
      " |-- _c2: string (nullable = true)\n",
      " |-- _c3: string (nullable = true)\n",
      "\n"
     ]
    }
   ],
   "source": [
    "# Display the structure of Schema\n",
    "body.printSchema()"
   ]
  },
  {
   "cell_type": "code",
   "execution_count": 24,
   "id": "e855e1ed",
   "metadata": {},
   "outputs": [
    {
     "name": "stdout",
     "output_type": "stream",
     "text": [
      "+---+--------------+----------+------+\n",
      "|_c0|           _c1|       _c2|   _c3|\n",
      "+---+--------------+----------+------+\n",
      "| id|number_courses|time_study| marks|\n",
      "|  1|             3|     4.508|19.202|\n",
      "|  2|             4|     0.096| 7.734|\n",
      "|  3|             4|     3.133|13.811|\n",
      "+---+--------------+----------+------+\n",
      "\n"
     ]
    }
   ],
   "source": [
    "#Create a DataFrame for a JSON dataset\n",
    "jsonStrings = body.toJSON()\n",
    "jsonDF = spark.read.json(jsonStrings)\n",
    "\n",
    "# Show the resulting DataFrame\n",
    "jsonDF.show()"
   ]
  }
 ],
 "metadata": {
  "kernelspec": {
   "display_name": "Python 3 (ipykernel)",
   "language": "python",
   "name": "python3"
  },
  "language_info": {
   "codemirror_mode": {
    "name": "ipython",
    "version": 3
   },
   "file_extension": ".py",
   "mimetype": "text/x-python",
   "name": "python",
   "nbconvert_exporter": "python",
   "pygments_lexer": "ipython3",
   "version": "3.10.12"
  }
 },
 "nbformat": 4,
 "nbformat_minor": 5
}
